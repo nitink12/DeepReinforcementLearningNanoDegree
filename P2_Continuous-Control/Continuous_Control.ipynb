{
 "cells": [
  {
   "cell_type": "markdown",
   "metadata": {},
   "source": [
    "# Continuous Control\n",
    "\n",
    "---\n",
    "\n",
    "You are welcome to use this coding environment to train your agent for the project.  Follow the instructions below to get started!\n",
    "\n",
    "### 1. Start the Environment\n",
    "\n",
    "Run the next code cell to install a few packages.  This line will take a few minutes to run!"
   ]
  },
  {
   "cell_type": "code",
   "execution_count": 1,
   "metadata": {},
   "outputs": [
    {
     "name": "stdout",
     "output_type": "stream",
     "text": [
      "\u001b[31mtensorflow 1.7.1 has requirement numpy>=1.13.3, but you'll have numpy 1.12.1 which is incompatible.\u001b[0m\r\n",
      "\u001b[31mipython 6.5.0 has requirement prompt-toolkit<2.0.0,>=1.0.15, but you'll have prompt-toolkit 3.0.5 which is incompatible.\u001b[0m\r\n"
     ]
    }
   ],
   "source": [
    "!pip -q install ./python"
   ]
  },
  {
   "cell_type": "markdown",
   "metadata": {},
   "source": [
    "The environments corresponding to both versions of the environment are already saved in the Workspace and can be accessed at the file paths provided below.  \n",
    "\n",
    "Please select one of the two options below for loading the environment."
   ]
  },
  {
   "cell_type": "code",
   "execution_count": 2,
   "metadata": {},
   "outputs": [
    {
     "name": "stderr",
     "output_type": "stream",
     "text": [
      "INFO:unityagents:\n",
      "'Academy' started successfully!\n",
      "Unity Academy name: Academy\n",
      "        Number of Brains: 1\n",
      "        Number of External Brains : 1\n",
      "        Lesson number : 0\n",
      "        Reset Parameters :\n",
      "\t\tgoal_speed -> 1.0\n",
      "\t\tgoal_size -> 5.0\n",
      "Unity brain name: ReacherBrain\n",
      "        Number of Visual Observations (per agent): 0\n",
      "        Vector Observation space type: continuous\n",
      "        Vector Observation space size (per agent): 33\n",
      "        Number of stacked Vector Observation: 1\n",
      "        Vector Action space type: continuous\n",
      "        Vector Action space size (per agent): 4\n",
      "        Vector Action descriptions: , , , \n"
     ]
    }
   ],
   "source": [
    "from unityagents import UnityEnvironment\n",
    "import numpy as np\n",
    "\n",
    "# select this option to load version 1 (with a single agent) of the environment\n",
    "env = UnityEnvironment(file_name='/data/Reacher_One_Linux_NoVis/Reacher_One_Linux_NoVis.x86_64')\n",
    "\n",
    "# select this option to load version 2 (with 20 agents) of the environment\n",
    "# env = UnityEnvironment(file_name='/data/Reacher_Linux_NoVis/Reacher.x86_64')"
   ]
  },
  {
   "cell_type": "markdown",
   "metadata": {},
   "source": [
    "Environments contain **_brains_** which are responsible for deciding the actions of their associated agents. Here we check for the first brain available, and set it as the default brain we will be controlling from Python."
   ]
  },
  {
   "cell_type": "code",
   "execution_count": 3,
   "metadata": {},
   "outputs": [],
   "source": [
    "# get the default brain\n",
    "brain_name = env.brain_names[0]\n",
    "brain = env.brains[brain_name]"
   ]
  },
  {
   "cell_type": "markdown",
   "metadata": {},
   "source": [
    "### 2. Examine the State and Action Spaces\n",
    "\n",
    "Run the code cell below to print some information about the environment."
   ]
  },
  {
   "cell_type": "code",
   "execution_count": 4,
   "metadata": {},
   "outputs": [
    {
     "name": "stdout",
     "output_type": "stream",
     "text": [
      "Number of agents: 1\n",
      "Size of each action: 4\n",
      "There are 1 agents. Each observes a state with length: 33\n",
      "The state for the first agent looks like: [  0.00000000e+00  -4.00000000e+00   0.00000000e+00   1.00000000e+00\n",
      "  -0.00000000e+00  -0.00000000e+00  -4.37113883e-08   0.00000000e+00\n",
      "   0.00000000e+00   0.00000000e+00   0.00000000e+00   0.00000000e+00\n",
      "   0.00000000e+00   0.00000000e+00  -1.00000000e+01   0.00000000e+00\n",
      "   1.00000000e+00  -0.00000000e+00  -0.00000000e+00  -4.37113883e-08\n",
      "   0.00000000e+00   0.00000000e+00   0.00000000e+00   0.00000000e+00\n",
      "   0.00000000e+00   0.00000000e+00   5.75471878e+00  -1.00000000e+00\n",
      "   5.55726671e+00   0.00000000e+00   1.00000000e+00   0.00000000e+00\n",
      "  -1.68164849e-01]\n"
     ]
    }
   ],
   "source": [
    "# reset the environment\n",
    "env_info = env.reset(train_mode=True)[brain_name]\n",
    "\n",
    "# number of agents\n",
    "num_agents = len(env_info.agents)\n",
    "print('Number of agents:', num_agents)\n",
    "\n",
    "# size of each action\n",
    "action_size = brain.vector_action_space_size\n",
    "print('Size of each action:', action_size)\n",
    "\n",
    "# examine the state space \n",
    "states = env_info.vector_observations\n",
    "state_size = states.shape[1]\n",
    "print('There are {} agents. Each observes a state with length: {}'.format(states.shape[0], state_size))\n",
    "print('The state for the first agent looks like:', states[0])"
   ]
  },
  {
   "cell_type": "markdown",
   "metadata": {},
   "source": [
    "### 3. Take Random Actions in the Environment\n",
    "\n",
    "In the next code cell, you will learn how to use the Python API to control the agent and receive feedback from the environment.\n",
    "\n",
    "Note that **in this coding environment, you will not be able to watch the agents while they are training**, and you should set `train_mode=True` to restart the environment."
   ]
  },
  {
   "cell_type": "code",
   "execution_count": 5,
   "metadata": {},
   "outputs": [],
   "source": [
    "# env_info = env.reset(train_mode=True)[brain_name]      # reset the environment    \n",
    "# states = env_info.vector_observations                  # get the current state (for each agent)\n",
    "# scores = np.zeros(num_agents)                          # initialize the score (for each agent)\n",
    "# while True:\n",
    "#     actions = np.random.randn(num_agents, action_size) # select an action (for each agent)\n",
    "#     actions = np.clip(actions, -1, 1)                  # all actions between -1 and 1\n",
    "#     env_info = env.step(actions)[brain_name]           # send all actions to tne environment\n",
    "#     next_states = env_info.vector_observations         # get next state (for each agent)\n",
    "#     rewards = env_info.rewards                         # get reward (for each agent)\n",
    "#     dones = env_info.local_done                        # see if episode finished\n",
    "#     scores += env_info.rewards                         # update the score (for each agent)\n",
    "#     states = next_states                               # roll over states to next time step\n",
    "#     if np.any(dones):                                  # exit loop if episode finished\n",
    "#         break\n",
    "# print('Total score (averaged over agents) this episode: {}'.format(np.mean(scores)))"
   ]
  },
  {
   "cell_type": "markdown",
   "metadata": {},
   "source": [
    "When finished, you can close the environment."
   ]
  },
  {
   "cell_type": "code",
   "execution_count": 6,
   "metadata": {},
   "outputs": [],
   "source": [
    "# env.close()"
   ]
  },
  {
   "cell_type": "markdown",
   "metadata": {},
   "source": [
    "### 4. It's Your Turn!\n",
    "\n",
    "Now it's your turn to train your own agent to solve the environment!  A few **important notes**:\n",
    "- When training the environment, set `train_mode=True`, so that the line for resetting the environment looks like the following:\n",
    "```python\n",
    "env_info = env.reset(train_mode=True)[brain_name]\n",
    "```\n",
    "- To structure your work, you're welcome to work directly in this Jupyter notebook, or you might like to start over with a new file!  You can see the list of files in the workspace by clicking on **_Jupyter_** in the top left corner of the notebook.\n",
    "- In this coding environment, you will not be able to watch the agents while they are training.  However, **_after training the agents_**, you can download the saved model weights to watch the agents on your own machine! "
   ]
  },
  {
   "cell_type": "code",
   "execution_count": null,
   "metadata": {},
   "outputs": [],
   "source": []
  },
  {
   "cell_type": "code",
   "execution_count": 7,
   "metadata": {},
   "outputs": [],
   "source": [
    "from collections import deque\n",
    "from ddpg_agent import DDPGAgent\n",
    "import matplotlib.pyplot as plt\n",
    "import time\n",
    "import torch\n",
    "%matplotlib inline"
   ]
  },
  {
   "cell_type": "code",
   "execution_count": 8,
   "metadata": {},
   "outputs": [],
   "source": [
    "def ddpg(n_episodes=1000, max_t=1000):\n",
    "    \"\"\" Deep Deterministic Policy Gradients\n",
    "    Params\n",
    "    ======\n",
    "        n_episodes (int): maximum number of training episodes\n",
    "        max_t (int): maximum number of timesteps per episode\n",
    "    \"\"\"\n",
    "    scores_window = deque(maxlen=100) # Store the last 100 scores, used to compute mean and determine if the env is solved.\n",
    "    score = 0 # Scores for every agent in an episode.\n",
    "    scores_episodes = [] # maintain progressive scores for all episodes for plotting.\n",
    "    \n",
    "    agent = DDPGAgent(state_size, action_size, random_seed=0)\n",
    "    \n",
    "    for i_episode in range(1, n_episodes+1):\n",
    "        env_info = env.reset(train_mode=True)[brain_name]\n",
    "        state = env_info.vector_observations[0]\n",
    "        \n",
    "        agent.reset()\n",
    "            \n",
    "        score = 0\n",
    "            \n",
    "        for t in range(max_t):\n",
    "            action = agent.act(state)\n",
    "            env_info = env.step(action)[brain_name]        # send the action to the environment\n",
    "            next_state = env_info.vector_observations[0]    # get the next state\n",
    "            reward = env_info.rewards[0]                   # get the reward\n",
    "            done = env_info.local_done[0]        \n",
    "            \n",
    "            agent.step(state, action, reward, next_state, done) \n",
    " \n",
    "            state = next_state\n",
    "            score += reward\n",
    "            if (t % 100==0):\n",
    "                print('\\rTimestep {}\\tScore: {:.2f}'.format(t, score), end=\"\") \n",
    "            if done:\n",
    "                break\n",
    "        scores_window.append(score)       # save most recent score\n",
    "        scores_episodes.append(score)\n",
    "\n",
    "        print('\\rEpisode {}\\tScore: {:.2f}\\tWindowed Average Score: {:.2f}'.format(i_episode, score, np.mean(scores_window)), end=\"\\n\")\n",
    "        if np.mean(scores_window)>=30.0:\n",
    "            print('\\nEnvironment solved in {:d} episodes!\\ttWindowed Average Score: {:.2f}'.format(i_episode, np.mean(scores_window)), end=\"\\n\")\n",
    "            torch.save(agent.actor_local.state_dict(), 'checkpoint_actor.pth')\n",
    "            torch.save(agent.critic_local.state_dict(), 'checkpoint_critic.pth')\n",
    "            break\n",
    "            \n",
    "    return scores_episodes"
   ]
  },
  {
   "cell_type": "code",
   "execution_count": 9,
   "metadata": {
    "scrolled": false
   },
   "outputs": [
    {
     "name": "stdout",
     "output_type": "stream",
     "text": [
      "Episode 1\tScore: 0.21\tWindowed Average Score: 0.21\n",
      "Episode 2\tScore: 0.10\tWindowed Average Score: 0.15\n",
      "Episode 3\tScore: 0.10\tWindowed Average Score: 0.14\n",
      "Episode 4\tScore: 0.73\tWindowed Average Score: 0.28\n",
      "Episode 5\tScore: 0.00\tWindowed Average Score: 0.23\n",
      "Episode 6\tScore: 0.64\tWindowed Average Score: 0.30\n",
      "Episode 7\tScore: 0.06\tWindowed Average Score: 0.26\n",
      "Episode 8\tScore: 0.55\tWindowed Average Score: 0.30\n",
      "Episode 9\tScore: 0.64\tWindowed Average Score: 0.34\n",
      "Episode 10\tScore: 0.22\tWindowed Average Score: 0.32\n",
      "Episode 11\tScore: 0.92\tWindowed Average Score: 0.38\n",
      "Episode 12\tScore: 0.65\tWindowed Average Score: 0.40\n",
      "Episode 13\tScore: 0.28\tWindowed Average Score: 0.39\n",
      "Episode 14\tScore: 0.25\tWindowed Average Score: 0.38\n",
      "Episode 15\tScore: 0.08\tWindowed Average Score: 0.36\n",
      "Episode 16\tScore: 0.40\tWindowed Average Score: 0.36\n",
      "Episode 17\tScore: 0.26\tWindowed Average Score: 0.36\n",
      "Episode 18\tScore: 0.26\tWindowed Average Score: 0.35\n",
      "Episode 19\tScore: 1.19\tWindowed Average Score: 0.40\n",
      "Episode 20\tScore: 1.03\tWindowed Average Score: 0.43\n",
      "Episode 21\tScore: 1.63\tWindowed Average Score: 0.49\n",
      "Episode 22\tScore: 0.81\tWindowed Average Score: 0.50\n",
      "Episode 23\tScore: 1.41\tWindowed Average Score: 0.54\n",
      "Episode 24\tScore: 1.67\tWindowed Average Score: 0.59\n",
      "Episode 25\tScore: 2.11\tWindowed Average Score: 0.65\n",
      "Episode 26\tScore: 1.86\tWindowed Average Score: 0.69\n",
      "Episode 27\tScore: 2.75\tWindowed Average Score: 0.77\n",
      "Episode 28\tScore: 1.84\tWindowed Average Score: 0.81\n",
      "Episode 29\tScore: 2.40\tWindowed Average Score: 0.86\n",
      "Episode 30\tScore: 1.36\tWindowed Average Score: 0.88\n",
      "Episode 31\tScore: 2.18\tWindowed Average Score: 0.92\n",
      "Episode 32\tScore: 6.38\tWindowed Average Score: 1.09\n",
      "Episode 33\tScore: 1.98\tWindowed Average Score: 1.12\n",
      "Episode 34\tScore: 2.43\tWindowed Average Score: 1.16\n",
      "Episode 35\tScore: 3.85\tWindowed Average Score: 1.24\n",
      "Episode 36\tScore: 3.11\tWindowed Average Score: 1.29\n",
      "Episode 37\tScore: 2.58\tWindowed Average Score: 1.32\n",
      "Episode 38\tScore: 2.61\tWindowed Average Score: 1.36\n",
      "Episode 39\tScore: 1.89\tWindowed Average Score: 1.37\n",
      "Episode 40\tScore: 4.36\tWindowed Average Score: 1.44\n",
      "Episode 41\tScore: 4.56\tWindowed Average Score: 1.52\n",
      "Episode 42\tScore: 3.94\tWindowed Average Score: 1.58\n",
      "Episode 43\tScore: 5.25\tWindowed Average Score: 1.66\n",
      "Episode 44\tScore: 3.17\tWindowed Average Score: 1.70\n",
      "Episode 45\tScore: 4.50\tWindowed Average Score: 1.76\n",
      "Episode 46\tScore: 1.73\tWindowed Average Score: 1.76\n",
      "Episode 47\tScore: 3.98\tWindowed Average Score: 1.81\n",
      "Episode 48\tScore: 3.97\tWindowed Average Score: 1.85\n",
      "Episode 49\tScore: 4.28\tWindowed Average Score: 1.90\n",
      "Episode 50\tScore: 3.95\tWindowed Average Score: 1.94\n",
      "Episode 51\tScore: 7.43\tWindowed Average Score: 2.05\n",
      "Episode 52\tScore: 4.63\tWindowed Average Score: 2.10\n",
      "Episode 53\tScore: 12.28\tWindowed Average Score: 2.29\n",
      "Episode 54\tScore: 6.21\tWindowed Average Score: 2.36\n",
      "Episode 55\tScore: 6.78\tWindowed Average Score: 2.44\n",
      "Episode 56\tScore: 3.87\tWindowed Average Score: 2.47\n",
      "Episode 57\tScore: 4.54\tWindowed Average Score: 2.51\n",
      "Episode 58\tScore: 11.11\tWindowed Average Score: 2.65\n",
      "Episode 59\tScore: 3.68\tWindowed Average Score: 2.67\n",
      "Episode 60\tScore: 8.02\tWindowed Average Score: 2.76\n",
      "Episode 61\tScore: 8.95\tWindowed Average Score: 2.86\n",
      "Episode 62\tScore: 4.88\tWindowed Average Score: 2.89\n",
      "Episode 63\tScore: 9.74\tWindowed Average Score: 3.00\n",
      "Episode 64\tScore: 2.92\tWindowed Average Score: 3.00\n",
      "Episode 65\tScore: 7.05\tWindowed Average Score: 3.06\n",
      "Episode 66\tScore: 12.32\tWindowed Average Score: 3.20\n",
      "Episode 67\tScore: 10.74\tWindowed Average Score: 3.32\n",
      "Episode 68\tScore: 7.27\tWindowed Average Score: 3.38\n",
      "Episode 69\tScore: 7.95\tWindowed Average Score: 3.44\n",
      "Episode 70\tScore: 8.20\tWindowed Average Score: 3.51\n",
      "Episode 71\tScore: 16.31\tWindowed Average Score: 3.69\n",
      "Episode 72\tScore: 8.43\tWindowed Average Score: 3.76\n",
      "Episode 73\tScore: 10.28\tWindowed Average Score: 3.85\n",
      "Episode 74\tScore: 7.22\tWindowed Average Score: 3.89\n",
      "Episode 75\tScore: 7.59\tWindowed Average Score: 3.94\n",
      "Episode 76\tScore: 9.46\tWindowed Average Score: 4.01\n",
      "Episode 77\tScore: 14.16\tWindowed Average Score: 4.14\n",
      "Episode 78\tScore: 6.85\tWindowed Average Score: 4.18\n",
      "Episode 79\tScore: 9.93\tWindowed Average Score: 4.25\n",
      "Episode 80\tScore: 8.87\tWindowed Average Score: 4.31\n",
      "Episode 81\tScore: 7.47\tWindowed Average Score: 4.35\n",
      "Episode 82\tScore: 8.83\tWindowed Average Score: 4.40\n",
      "Episode 83\tScore: 13.74\tWindowed Average Score: 4.52\n",
      "Episode 84\tScore: 21.31\tWindowed Average Score: 4.72\n",
      "Episode 85\tScore: 5.32\tWindowed Average Score: 4.72\n",
      "Episode 86\tScore: 13.20\tWindowed Average Score: 4.82\n",
      "Episode 87\tScore: 10.05\tWindowed Average Score: 4.88\n",
      "Episode 88\tScore: 9.64\tWindowed Average Score: 4.94\n",
      "Episode 89\tScore: 29.49\tWindowed Average Score: 5.21\n",
      "Episode 90\tScore: 19.85\tWindowed Average Score: 5.37\n",
      "Episode 91\tScore: 15.59\tWindowed Average Score: 5.49\n",
      "Episode 92\tScore: 17.41\tWindowed Average Score: 5.62\n",
      "Episode 93\tScore: 25.42\tWindowed Average Score: 5.83\n",
      "Episode 94\tScore: 11.62\tWindowed Average Score: 5.89\n",
      "Episode 95\tScore: 13.58\tWindowed Average Score: 5.97\n",
      "Episode 96\tScore: 13.61\tWindowed Average Score: 6.05\n",
      "Episode 97\tScore: 15.28\tWindowed Average Score: 6.15\n",
      "Episode 98\tScore: 33.26\tWindowed Average Score: 6.42\n",
      "Episode 99\tScore: 20.89\tWindowed Average Score: 6.57\n",
      "Episode 100\tScore: 23.43\tWindowed Average Score: 6.74\n",
      "Episode 101\tScore: 26.52\tWindowed Average Score: 7.00\n",
      "Episode 102\tScore: 25.11\tWindowed Average Score: 7.25\n",
      "Episode 103\tScore: 7.76\tWindowed Average Score: 7.33\n",
      "Episode 104\tScore: 22.96\tWindowed Average Score: 7.55\n",
      "Episode 105\tScore: 20.61\tWindowed Average Score: 7.76\n",
      "Episode 106\tScore: 24.22\tWindowed Average Score: 7.99\n",
      "Episode 107\tScore: 25.57\tWindowed Average Score: 8.25\n",
      "Episode 108\tScore: 15.79\tWindowed Average Score: 8.40\n",
      "Episode 109\tScore: 24.82\tWindowed Average Score: 8.64\n",
      "Episode 110\tScore: 20.65\tWindowed Average Score: 8.85\n",
      "Episode 111\tScore: 26.53\tWindowed Average Score: 9.10\n",
      "Episode 112\tScore: 30.85\tWindowed Average Score: 9.40\n",
      "Episode 113\tScore: 35.20\tWindowed Average Score: 9.75\n",
      "Episode 114\tScore: 21.92\tWindowed Average Score: 9.97\n",
      "Episode 115\tScore: 30.15\tWindowed Average Score: 10.27\n",
      "Episode 116\tScore: 21.03\tWindowed Average Score: 10.48\n",
      "Episode 117\tScore: 29.55\tWindowed Average Score: 10.77\n",
      "Episode 118\tScore: 30.28\tWindowed Average Score: 11.07\n",
      "Episode 119\tScore: 33.43\tWindowed Average Score: 11.39\n",
      "Episode 120\tScore: 27.54\tWindowed Average Score: 11.66\n",
      "Episode 121\tScore: 28.06\tWindowed Average Score: 11.92\n",
      "Episode 122\tScore: 37.79\tWindowed Average Score: 12.29\n",
      "Episode 123\tScore: 25.60\tWindowed Average Score: 12.53\n",
      "Episode 124\tScore: 28.41\tWindowed Average Score: 12.80\n",
      "Episode 125\tScore: 27.04\tWindowed Average Score: 13.05\n",
      "Episode 126\tScore: 35.72\tWindowed Average Score: 13.39\n",
      "Episode 127\tScore: 27.87\tWindowed Average Score: 13.64\n",
      "Episode 128\tScore: 30.97\tWindowed Average Score: 13.93\n",
      "Episode 129\tScore: 28.19\tWindowed Average Score: 14.19\n",
      "Episode 130\tScore: 24.45\tWindowed Average Score: 14.42\n",
      "Episode 131\tScore: 27.40\tWindowed Average Score: 14.67\n",
      "Episode 132\tScore: 20.08\tWindowed Average Score: 14.81\n",
      "Episode 133\tScore: 36.37\tWindowed Average Score: 15.15\n",
      "Episode 134\tScore: 38.23\tWindowed Average Score: 15.51\n",
      "Episode 135\tScore: 35.78\tWindowed Average Score: 15.83\n",
      "Episode 136\tScore: 34.62\tWindowed Average Score: 16.14\n",
      "Episode 137\tScore: 38.00\tWindowed Average Score: 16.50\n",
      "Episode 138\tScore: 34.38\tWindowed Average Score: 16.82\n",
      "Episode 139\tScore: 35.37\tWindowed Average Score: 17.15\n",
      "Episode 140\tScore: 33.03\tWindowed Average Score: 17.44\n",
      "Episode 141\tScore: 35.80\tWindowed Average Score: 17.75\n",
      "Episode 142\tScore: 39.00\tWindowed Average Score: 18.10\n",
      "Episode 143\tScore: 39.28\tWindowed Average Score: 18.44\n",
      "Episode 144\tScore: 32.08\tWindowed Average Score: 18.73\n",
      "Episode 145\tScore: 36.25\tWindowed Average Score: 19.05\n",
      "Episode 146\tScore: 37.97\tWindowed Average Score: 19.41\n",
      "Episode 147\tScore: 30.60\tWindowed Average Score: 19.68\n",
      "Episode 148\tScore: 39.53\tWindowed Average Score: 20.03\n",
      "Episode 149\tScore: 38.07\tWindowed Average Score: 20.37\n",
      "Episode 150\tScore: 39.51\tWindowed Average Score: 20.73\n",
      "Episode 151\tScore: 27.30\tWindowed Average Score: 20.92\n",
      "Episode 152\tScore: 35.77\tWindowed Average Score: 21.24\n",
      "Episode 153\tScore: 39.29\tWindowed Average Score: 21.51\n",
      "Episode 154\tScore: 32.37\tWindowed Average Score: 21.77\n",
      "Episode 155\tScore: 33.59\tWindowed Average Score: 22.04\n",
      "Episode 156\tScore: 24.54\tWindowed Average Score: 22.24\n",
      "Episode 157\tScore: 31.60\tWindowed Average Score: 22.51\n",
      "Episode 158\tScore: 33.21\tWindowed Average Score: 22.73\n",
      "Episode 159\tScore: 22.17\tWindowed Average Score: 22.92\n",
      "Episode 160\tScore: 34.72\tWindowed Average Score: 23.19\n",
      "Episode 161\tScore: 33.72\tWindowed Average Score: 23.43\n",
      "Episode 162\tScore: 35.29\tWindowed Average Score: 23.74\n",
      "Episode 163\tScore: 32.85\tWindowed Average Score: 23.97\n",
      "Episode 164\tScore: 36.02\tWindowed Average Score: 24.30\n",
      "Episode 165\tScore: 31.79\tWindowed Average Score: 24.55\n",
      "Episode 166\tScore: 33.55\tWindowed Average Score: 24.76\n",
      "Episode 167\tScore: 11.05\tWindowed Average Score: 24.76\n",
      "Episode 168\tScore: 34.40\tWindowed Average Score: 25.03\n",
      "Episode 169\tScore: 39.44\tWindowed Average Score: 25.35\n",
      "Episode 170\tScore: 37.60\tWindowed Average Score: 25.64\n",
      "Episode 171\tScore: 37.55\tWindowed Average Score: 25.86\n",
      "Episode 172\tScore: 38.22\tWindowed Average Score: 26.15\n",
      "Episode 173\tScore: 35.19\tWindowed Average Score: 26.40\n",
      "Episode 174\tScore: 29.94\tWindowed Average Score: 26.63\n",
      "Episode 175\tScore: 36.11\tWindowed Average Score: 26.91\n",
      "Episode 176\tScore: 26.83\tWindowed Average Score: 27.09\n",
      "Episode 177\tScore: 30.98\tWindowed Average Score: 27.26\n",
      "Episode 178\tScore: 28.16\tWindowed Average Score: 27.47\n",
      "Episode 179\tScore: 28.02\tWindowed Average Score: 27.65\n",
      "Episode 180\tScore: 36.35\tWindowed Average Score: 27.93\n",
      "Episode 181\tScore: 37.22\tWindowed Average Score: 28.22\n",
      "Episode 182\tScore: 38.55\tWindowed Average Score: 28.52\n",
      "Episode 183\tScore: 36.00\tWindowed Average Score: 28.74\n",
      "Episode 184\tScore: 34.32\tWindowed Average Score: 28.87\n",
      "Episode 185\tScore: 35.69\tWindowed Average Score: 29.18\n",
      "Episode 186\tScore: 36.81\tWindowed Average Score: 29.41\n",
      "Episode 187\tScore: 39.63\tWindowed Average Score: 29.71\n",
      "Episode 188\tScore: 39.48\tWindowed Average Score: 30.01\n",
      "\n",
      "Environment solved in 188 episodes!\ttWindowed Average Score: 30.01\n"
     ]
    }
   ],
   "source": [
    "scores = ddpg()"
   ]
  },
  {
   "cell_type": "code",
   "execution_count": 11,
   "metadata": {},
   "outputs": [
    {
     "data": {
      "image/png": "[encoded data removed]",
      "text/plain": [
       "<matplotlib.figure.Figure at 0x7f2a94ee3e48>"
      ]
     },
     "metadata": {
      "needs_background": "light"
     },
     "output_type": "display_data"
    }
   ],
   "source": [
    "# plot the scores\n",
    "fig = plt.figure()\n",
    "plt.plot(np.arange(len(scores)), scores)\n",
    "plt.ylabel('Score')\n",
    "plt.xlabel('Episode #')\n",
    "plt.show()"
   ]
  },
  {
   "cell_type": "code",
   "execution_count": null,
   "metadata": {},
   "outputs": [],
   "source": []
  }
 ],
 "metadata": {
  "kernelspec": {
   "display_name": "Python 3",
   "language": "python",
   "name": "python3"
  },
  "language_info": {
   "codemirror_mode": {
    "name": "ipython",
    "version": 3
   },
   "file_extension": ".py",
   "mimetype": "text/x-python",
   "name": "python",
   "nbconvert_exporter": "python",
   "pygments_lexer": "ipython3",
   "version": "3.6.3"
  }
 },
 "nbformat": 4,
 "nbformat_minor": 2
}
